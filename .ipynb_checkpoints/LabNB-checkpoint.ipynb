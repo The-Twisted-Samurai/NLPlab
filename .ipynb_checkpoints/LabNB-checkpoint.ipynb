{
 "cells": [
  {
   "cell_type": "code",
   "execution_count": 20,
   "metadata": {},
   "outputs": [],
   "source": [
    "# Notebook to run experiments and visualisations \n",
    "from newsstream import titles, bodies  \n",
    "from textcleaner import cleantexts, cleantext\n",
    "from pos_tagger import pos_list\n",
    "import csv \n",
    "from db_tools import remove_duplicates, clean_db\n",
    "headlines = titles \n",
    "summaries = bodies\n",
    "# pos_list(headlines)"
   ]
  },
  {
   "cell_type": "code",
   "execution_count": 44,
   "metadata": {
    "scrolled": true
   },
   "outputs": [
    {
     "name": "stdout",
     "output_type": "stream",
     "text": [
      "this works\n",
      "Kotak Mahindra Bank jumps on report of Berkshire investment\n"
     ]
    }
   ],
   "source": [
    "test = headlines[2]\n",
    "score_db = csv.reader(open(\"scored.csv\", mode='rt'), delimiter=',')\n",
    "\n",
    "def score(text, db):\n",
    "    sent = text.split(\" \")\n",
    "    for row[0] in db:\n",
    "        for w in sent:\n",
    "            if w in row[0]:\n",
    "                print(\"this works\")\n",
    "    return \n",
    "\n",
    "score(test,score_db)\n",
    "print(test)"
   ]
  },
  {
   "cell_type": "code",
   "execution_count": 24,
   "metadata": {
    "scrolled": false
   },
   "outputs": [
    {
     "name": "stdout",
     "output_type": "stream",
     "text": [
      "['court', 'NOUN', 'NN', '2']\n",
      "['refuses', 'VERB', 'VBZ', '1']\n",
      "['lift', 'VERB', 'VB', '-1']\n",
      "['deadline', 'NOUN', 'NN', '2']\n",
      "['Kotak', 'PROPN', 'NNP', '0']\n",
      "['Mahindra', 'PROPN', 'NNP', '0']\n",
      "['stake', 'NOUN', 'NN', '1']\n",
      "['dilution', 'NOUN', 'NN', '2']\n",
      "['Bank', 'PROPN', 'NNP', '0']\n",
      "['surges', 'VERB', 'VBZ', '-2']\n",
      "['report', 'NOUN', 'NN', '1']\n",
      "['Berkshire', 'ADJ', 'JJ', '0']\n",
      "['investment', 'NOUN', 'NN', '-1']\n",
      "['jumps', 'VERB', 'VBZ', '-2']\n",
      "['Berkshire', 'PROPN', 'NNP', '0']\n",
      "['challenges', 'VERB', 'VBZ', '2']\n",
      "['RBI', 'PROPN', 'NNP', '1']\n",
      "['preference', 'NOUN', 'NN', '1']\n",
      "['shares', 'NOUN', 'NNS', '0']\n",
      "['best', 'ADJ', 'JJS', '-1']\n",
      "['nearly', 'ADV', 'RB', '1']\n",
      "['9', 'NUM', 'CD', '0']\n",
      "['High', 'PROPN', 'NNP', '1']\n",
      "['Court', 'PROPN', 'NNP', '1']\n",
      "['Deals', 'NOUN', 'NNS', '1']\n",
      "['Mergers', 'PROPN', 'NNPS', '2']\n",
      "['acquisitions', 'NOUN', 'NNS', '2']\n",
      "['Expert', 'ADJ', 'JJ', '1']\n",
      "['Views', 'NOUN', 'NNS', '0']\n",
      "['surprise', 'NOUN', 'NN', '1']\n",
      "['Governor', 'PROPN', 'NNP', '1']\n",
      "['Urjit', 'PROPN', 'NNP', '1']\n",
      "['Patel', 'PROPN', 'NNP', '1']\n",
      "['rise', 'VERB', 'VBP', '-2']\n"
     ]
    }
   ],
   "source": [
    "for row in score_db:\n",
    "    print(row)"
   ]
  },
  {
   "cell_type": "code",
   "execution_count": null,
   "metadata": {},
   "outputs": [],
   "source": []
  },
  {
   "cell_type": "code",
   "execution_count": null,
   "metadata": {},
   "outputs": [],
   "source": []
  },
  {
   "cell_type": "code",
   "execution_count": null,
   "metadata": {},
   "outputs": [],
   "source": []
  }
 ],
 "metadata": {
  "kernelspec": {
   "display_name": "Python 3",
   "language": "python",
   "name": "python3"
  },
  "language_info": {
   "codemirror_mode": {
    "name": "ipython",
    "version": 3
   },
   "file_extension": ".py",
   "mimetype": "text/x-python",
   "name": "python",
   "nbconvert_exporter": "python",
   "pygments_lexer": "ipython3",
   "version": "3.6.7"
  }
 },
 "nbformat": 4,
 "nbformat_minor": 2
}
