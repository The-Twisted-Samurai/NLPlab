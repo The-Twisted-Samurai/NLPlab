{
 "cells": [
  {
   "cell_type": "code",
   "execution_count": 1,
   "metadata": {
    "collapsed": true
   },
   "outputs": [
    {
     "name": "stdout",
     "output_type": "stream",
     "text": [
      "------------NewsAPI Stream OwO------------\n",
      " \n",
      "Search query: Kotak Mahindra Bank\n",
      " \n",
      "\n",
      "Sources (press return for default): \n",
      "fetching artices..\n",
      "successfully fetched articles.\n",
      "total titles 11\n",
      "total summaries 11\n",
      " \n",
      "Display titles? [Y/n]: n\n",
      "['test', 'kotak mahindra bank stock falls bad quarter']\n"
     ]
    }
   ],
   "source": [
    "# Notebook to run experiments and visualisations \n",
    "from newsstream import titles, bodies  \n",
    "import csv \n",
    "headlines = titles \n",
    "summaries = bodies\n",
    "# pos_list(headlines)"
   ]
  },
  {
   "cell_type": "code",
   "execution_count": 56,
   "metadata": {
    "scrolled": true
   },
   "outputs": [
    {
     "name": "stdout",
     "output_type": "stream",
     "text": [
      "UPDATE 1-Indian court refuses to lift deadline for Kotak Mahindra stake dilution - TV 7\n",
      "Kotak Mahindra Bank surges on report of likely Berkshire investment -2\n",
      "Kotak Mahindra Bank jumps on report of Berkshire investment -2\n",
      "Kotak Mahindra Bank challenges RBI decision on preference shares 4\n",
      "High Court refuses to stay deadline for Kotak Mahindra Bank stake dilution: CNBC TV18 6\n",
      "Nifty, Sensex rise; Kotak Mahindra Bank sees best day in nearly 9 years 0\n",
      "Deals of the day-Mergers and acquisitions 3\n",
      "Expert Views: In surprise move, RBI Governor Urjit Patel steps down 6\n",
      "Morning News Call - India, December 7 0\n",
      "Indian shares rise; Kotak Mahindra Bank sees best day in nearly 9 yrs 0\n",
      "Indian shares rise; Kotak Mahindra Bank sees best day in nearly 9 yrs 0\n"
     ]
    }
   ],
   "source": [
    "from syntax import score, score_syntax\n",
    "for k in headlines:\n",
    "    print(k, score(k))"
   ]
  },
  {
   "cell_type": "raw",
   "metadata": {},
   "source": []
  },
  {
   "cell_type": "code",
   "execution_count": null,
   "metadata": {},
   "outputs": [],
   "source": []
  },
  {
   "cell_type": "code",
   "execution_count": null,
   "metadata": {},
   "outputs": [],
   "source": []
  },
  {
   "cell_type": "code",
   "execution_count": null,
   "metadata": {},
   "outputs": [],
   "source": []
  }
 ],
 "metadata": {
  "kernelspec": {
   "display_name": "Python 3",
   "language": "python",
   "name": "python3"
  },
  "language_info": {
   "codemirror_mode": {
    "name": "ipython",
    "version": 3
   },
   "file_extension": ".py",
   "mimetype": "text/x-python",
   "name": "python",
   "nbconvert_exporter": "python",
   "pygments_lexer": "ipython3",
   "version": "3.6.7"
  }
 },
 "nbformat": 4,
 "nbformat_minor": 2
}
