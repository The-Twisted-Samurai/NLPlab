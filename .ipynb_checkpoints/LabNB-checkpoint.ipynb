{
 "cells": [
  {
   "cell_type": "code",
   "execution_count": 19,
   "metadata": {},
   "outputs": [
    {
     "name": "stdout",
     "output_type": "stream",
     "text": [
      "Nifty, Sensex rise; Kotak Mahindra Bank sees best day nearly 9 years\n",
      "| Text     | Lemma    | PoS      | Tag      | Dependency | Shape    | Alpha    | Stop     |\n",
      "-------------------------------------------------------------------------------------------\n",
      "| Nifty    | nifty    | PROPN    | NNP      | advmod     | Xxxxx    |        1 |        0 |\n",
      "| ,        | ,        | PUNCT    | ,        | punct      | ,        |        0 |        0 |\n",
      "| Sensex   | sensex   | PROPN    | NNP      | nsubj      | Xxxxx    |        1 |        0 |\n",
      "| rise     | rise     | NOUN     | NN       | appos      | xxxx     |        1 |        0 |\n",
      "| ;        | ;        | PUNCT    | :        | punct      | ;        |        0 |        0 |\n",
      "| Kotak    | kotak    | PROPN    | NNP      | compound   | Xxxxx    |        1 |        0 |\n",
      "| Mahindra | mahindra | PROPN    | NNP      | compound   | Xxxxx    |        1 |        0 |\n",
      "| Bank     | bank     | PROPN    | NNP      | nsubj      | Xxxx     |        1 |        0 |\n",
      "| sees     | see      | VERB     | VBZ      | ROOT       | xxxx     |        1 |        0 |\n",
      "| best     | good     | ADJ      | JJS      | amod       | xxxx     |        1 |        0 |\n",
      "| day      | day      | NOUN     | NN       | npadvmod   | xxx      |        1 |        0 |\n",
      "| in       | in       | ADP      | IN       | prep       | xx       |        1 |        1 |\n",
      "| nearly   | nearly   | ADV      | RB       | advmod     | xxxx     |        1 |        0 |\n",
      "| 9        | 9        | NUM      | CD       | nummod     | d        |        0 |        0 |\n",
      "| years    | year     | NOUN     | NNS      | pobj       | xxxx     |        1 |        0 |\n"
     ]
    }
   ],
   "source": [
    "# Notebook to run experiments and visualisations \n",
    "from newsstream import titles, bodies  \n",
    "from textcleaner import cleantexts, cleantext\n",
    "from pos_tagger import nlp, print_table, write_csv\n",
    "\n",
    "headlines = titles \n",
    "summaries = bodies\n",
    "\n",
    "# Tests \n",
    "n = 4\n",
    "print(cleantext(headlines[n]))\n",
    "print_table(nlp(headlines[n]))"
   ]
  },
  {
   "cell_type": "code",
   "execution_count": null,
   "metadata": {},
   "outputs": [],
   "source": []
  },
  {
   "cell_type": "code",
   "execution_count": null,
   "metadata": {},
   "outputs": [],
   "source": []
  }
 ],
 "metadata": {
  "kernelspec": {
   "display_name": "Python 3",
   "language": "python",
   "name": "python3"
  },
  "language_info": {
   "codemirror_mode": {
    "name": "ipython",
    "version": 3
   },
   "file_extension": ".py",
   "mimetype": "text/x-python",
   "name": "python",
   "nbconvert_exporter": "python",
   "pygments_lexer": "ipython3",
   "version": "3.6.7"
  }
 },
 "nbformat": 4,
 "nbformat_minor": 2
}
