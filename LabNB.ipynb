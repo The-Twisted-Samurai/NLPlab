{
 "cells": [
  {
   "cell_type": "code",
   "execution_count": 17,
   "metadata": {},
   "outputs": [
    {
     "name": "stdout",
     "output_type": "stream",
     "text": [
      "High Court refuses stay deadline Kotak Mahindra Bank stake dilution: CNBC TV18\n"
     ]
    }
   ],
   "source": [
    "# Notebook to run experiments and visualisations \n",
    "from newsstream import titles, bodies  \n",
    "from textcleaner import cleantexts, cleantext\n",
    "from pos_tagger import nlp, print_table, write_csv, pos_list\n",
    "import pandas as pd \n",
    "import csv \n",
    "headlines = titles \n",
    "summaries = bodies\n",
    "\n",
    "pos_list(headlines)"
   ]
  },
  {
   "cell_type": "code",
   "execution_count": 18,
   "metadata": {
    "scrolled": true
   },
   "outputs": [],
   "source": [
    "def clean_db(path):\n",
    "    csv_reader = csv.reader(open(path, mode='rt'), delimiter=',')\n",
    "    n = []\n",
    "    for row in csv_reader:\n",
    "    if row[0] not in stopwords:\n",
    "        n.append(row)\n",
    "csv.writer(open(path, 'wt')).writerows(n)"
   ]
  },
  {
   "cell_type": "code",
   "execution_count": 37,
   "metadata": {
    "scrolled": false
   },
   "outputs": [],
   "source": []
  },
  {
   "cell_type": "code",
   "execution_count": null,
   "metadata": {},
   "outputs": [],
   "source": []
  },
  {
   "cell_type": "code",
   "execution_count": null,
   "metadata": {},
   "outputs": [],
   "source": []
  },
  {
   "cell_type": "code",
   "execution_count": null,
   "metadata": {},
   "outputs": [],
   "source": []
  }
 ],
 "metadata": {
  "kernelspec": {
   "display_name": "Python 3",
   "language": "python",
   "name": "python3"
  },
  "language_info": {
   "codemirror_mode": {
    "name": "ipython",
    "version": 3
   },
   "file_extension": ".py",
   "mimetype": "text/x-python",
   "name": "python",
   "nbconvert_exporter": "python",
   "pygments_lexer": "ipython3",
   "version": "3.6.7"
  }
 },
 "nbformat": 4,
 "nbformat_minor": 2
}
