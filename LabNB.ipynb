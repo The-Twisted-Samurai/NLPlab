{
 "cells": [
  {
   "cell_type": "code",
   "execution_count": 5,
   "metadata": {},
   "outputs": [
    {
     "name": "stdout",
     "output_type": "stream",
     "text": [
      "------------NewsAPI Stream OwO------------\n",
      " \n",
      "Search query: Kotak Mahindra Bank \n",
      " \n",
      "\n",
      "Sources (press return for default): \n",
      "fetching artices..\n",
      "successfully fetched articles.\n",
      "total titles 11\n",
      "total summaries 11\n",
      " \n",
      "Display titles? [Y/n]: n\n"
     ]
    }
   ],
   "source": [
    "# Notebook to run experiments and visualisations \n",
    "from newsstream import titles, bodies  \n",
    "import csv \n",
    "headlines = titles \n",
    "summaries = bodies\n",
    "# pos_list(headlines)"
   ]
  },
  {
   "cell_type": "code",
   "execution_count": 7,
   "metadata": {
    "scrolled": true
   },
   "outputs": [
    {
     "name": "stdout",
     "output_type": "stream",
     "text": [
      "\n",
      "\n",
      "\n",
      "\n",
      "\n",
      "\n",
      "\n",
      "\n",
      "\n",
      "\n",
      "\n",
      "display articles? [Y/n]:n\n"
     ]
    },
    {
     "data": {
      "image/png": "[encoded data removed]",
      "text/plain": [
       "<Figure size 432x288 with 1 Axes>"
      ]
     },
     "metadata": {},
     "output_type": "display_data"
    },
    {
     "name": "stdout",
     "output_type": "stream",
     "text": [
      "Average risk(semantic): 1\n"
     ]
    }
   ],
   "source": [
    "from syntax import score_syntax, score\n",
    "scores = score_syntax(headlines)\n",
    "x = list(range(len(scores)))\n",
    "import matplotlib.pyplot as plt \n",
    "plt.scatter(x,scores)\n",
    "if input(\"display articles? [Y/n]:\") == \"\":\n",
    "    for headline in headlines:\n",
    "        print(\"Article: \",headline)\n",
    "        print(\"risk score(syntax):\",score(headline))\n",
    "        print(\"-\")\n",
    "    else: \n",
    "        pass\n",
    "plt.show()\n",
    "avg = sum(scores)/len(scores)\n",
    "print(\"Average risk(semantic):\", int(avg))"
   ]
  },
  {
   "cell_type": "raw",
   "metadata": {},
   "source": []
  },
  {
   "cell_type": "code",
   "execution_count": 34,
   "metadata": {
    "scrolled": true
   },
   "outputs": [
    {
     "name": "stdout",
     "output_type": "stream",
     "text": [
      "['Kotak', 'Mahindra', 'Bank', 'jumps', 'on', 'report', 'of', 'Berkshire', 'investment']\n",
      "['compound', 'compound', 'nsubj', 'ROOT', 'prep', 'pobj', 'prep', 'compound', 'pobj']\n",
      "['PROPN', 'PROPN', 'PROPN', 'VERB', 'ADP', 'NOUN', 'ADP', 'PROPN', 'NOUN']\n"
     ]
    }
   ],
   "source": [
    "import spacy\n",
    "\n",
    "def semantic_test(headline):\n",
    "    nlp = spacy.load('en_core_web_sm')\n",
    "    doc = nlp(headline)\n",
    "    sent = headline.split(\" \")\n",
    "    dependencies = []\n",
    "    pos = []\n",
    "    docM_base = [sent, dependencies, pos]\n",
    "    for token in doc:\n",
    "        dependencies.append(token.dep_)\n",
    "        pos.append(token.pos_)\n",
    "\n",
    "    return docM_base\n",
    "\n",
    "test = semantic_test(headlines[2])\n",
    "for n in test:\n",
    "    print(n)"
   ]
  },
  {
   "cell_type": "code",
   "execution_count": null,
   "metadata": {},
   "outputs": [],
   "source": [
    "nlp2 = spacy.load('en_core_web_sm')\n",
    "doc2 = nlp(headlines[4])\n",
    "spacy.displacy.serve(doc2, style='dep')"
   ]
  },
  {
   "cell_type": "code",
   "execution_count": null,
   "metadata": {},
   "outputs": [],
   "source": []
  },
  {
   "cell_type": "code",
   "execution_count": null,
   "metadata": {},
   "outputs": [],
   "source": []
  },
  {
   "cell_type": "code",
   "execution_count": null,
   "metadata": {},
   "outputs": [],
   "source": []
  }
 ],
 "metadata": {
  "kernelspec": {
   "display_name": "Python 3",
   "language": "python",
   "name": "python3"
  },
  "language_info": {
   "codemirror_mode": {
    "name": "ipython",
    "version": 3
   },
   "file_extension": ".py",
   "mimetype": "text/x-python",
   "name": "python",
   "nbconvert_exporter": "python",
   "pygments_lexer": "ipython3",
   "version": "3.6.7"
  }
 },
 "nbformat": 4,
 "nbformat_minor": 2
}
