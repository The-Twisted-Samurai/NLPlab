{
 "cells": [
  {
   "cell_type": "code",
   "execution_count": 1,
   "metadata": {
    "collapsed": true
   },
   "outputs": [
    {
     "name": "stdout",
     "output_type": "stream",
     "text": [
      "------------NewsAPI Stream OwO------------\n",
      " \n",
      "Search query: Kotak Mahindra Bank \n",
      " \n",
      "\n",
      "Sources (press return for default): \n",
      "fetching artices..\n",
      "successfully fetched articles.\n",
      "total titles 11\n",
      "total summaries 11\n",
      " \n",
      "Display titles? [Y/n]: n\n"
     ]
    }
   ],
   "source": [
    "# Notebook to run experiments and visualisations \n",
    "from newsstream import titles, bodies  \n",
    "import csv \n",
    "headlines = titles \n",
    "summaries = bodies\n",
    "# pos_list(headlines)"
   ]
  },
  {
   "cell_type": "code",
   "execution_count": 22,
   "metadata": {},
   "outputs": [
    {
     "data": {
      "image/png": "[encoded data removed]",
      "text/plain": [
       "<Figure size 432x288 with 1 Axes>"
      ]
     },
     "metadata": {},
     "output_type": "display_data"
    },
    {
     "name": "stdout",
     "output_type": "stream",
     "text": [
      "-\n",
      "article:  UPDATE 1-Indian court refuses to lift deadline for Kotak Mahindra stake dilution - TV\n",
      "risk score(syntax): 7\n",
      "-\n",
      "article:  Kotak Mahindra Bank surges on report of likely Berkshire investment\n",
      "risk score(syntax): -2\n",
      "-\n",
      "article:  Kotak Mahindra Bank jumps on report of Berkshire investment\n",
      "risk score(syntax): -2\n",
      "-\n",
      "article:  Kotak Mahindra Bank challenges RBI decision on preference shares\n",
      "risk score(syntax): 4\n",
      "-\n",
      "article:  Nifty, Sensex rise; Kotak Mahindra Bank sees best day in nearly 9 years\n",
      "risk score(syntax): -2\n",
      "-\n",
      "article:  High Court refuses to stay deadline for Kotak Mahindra Bank stake dilution: CNBC TV18\n",
      "risk score(syntax): 6\n",
      "-\n",
      "article:  Deals of the day-Mergers and acquisitions\n",
      "risk score(syntax): 3\n",
      "-\n",
      "article:  Expert Views: In surprise move, RBI Governor Urjit Patel steps down\n",
      "risk score(syntax): 6\n",
      "-\n",
      "article:  Morning News Call - India, December 7\n",
      "risk score(syntax): 0\n",
      "-\n",
      "article:  Indian shares rise; Kotak Mahindra Bank sees best day in nearly 9 yrs\n",
      "risk score(syntax): -2\n",
      "-\n",
      "article:  Indian shares rise; Kotak Mahindra Bank sees best day in nearly 9 yrs\n",
      "risk score(syntax): -2\n"
     ]
    }
   ],
   "source": [
    "scores = score_syntax(headlines)\n",
    "x = list(range(len(scores)))\n",
    "import matplotlib.pyplot as plt \n",
    "plt.scatter(x,scores)\n",
    "plt.show()\n",
    "for headline in headlines:\n",
    "    print(\"-\")\n",
    "    print(\"article: \",headline)\n",
    "    print(\"risk score(syntax):\",score(headline))"
   ]
  },
  {
   "cell_type": "raw",
   "metadata": {},
   "source": []
  },
  {
   "cell_type": "code",
   "execution_count": null,
   "metadata": {
    "scrolled": true
   },
   "outputs": [],
   "source": []
  },
  {
   "cell_type": "code",
   "execution_count": null,
   "metadata": {},
   "outputs": [],
   "source": []
  },
  {
   "cell_type": "code",
   "execution_count": null,
   "metadata": {},
   "outputs": [],
   "source": []
  }
 ],
 "metadata": {
  "kernelspec": {
   "display_name": "Python 3",
   "language": "python",
   "name": "python3"
  },
  "language_info": {
   "codemirror_mode": {
    "name": "ipython",
    "version": 3
   },
   "file_extension": ".py",
   "mimetype": "text/x-python",
   "name": "python",
   "nbconvert_exporter": "python",
   "pygments_lexer": "ipython3",
   "version": "3.6.7"
  }
 },
 "nbformat": 4,
 "nbformat_minor": 2
}
