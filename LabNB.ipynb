{
 "cells": [
  {
   "cell_type": "code",
   "execution_count": 1,
   "metadata": {},
   "outputs": [
    {
     "name": "stdout",
     "output_type": "stream",
     "text": [
      "------------NewsAPI Stream OwO------------\n",
      " \n",
      "Search query: Kotak Mahindra Bank\n",
      " \n",
      "\n",
      "Sources (press return for default): \n",
      "fetching artices..\n",
      "successfully fetched articles.\n",
      "total titles 11\n",
      "total summaries 11\n",
      " \n",
      "Display titles? [Y/n]: n\n",
      "['test', 'kotak mahindra bank stock falls bad quarter']\n"
     ]
    }
   ],
   "source": [
    "# Notebook to run experiments and visualisations \n",
    "from newsstream import titles, bodies  \n",
    "import csv \n",
    "headlines = titles \n",
    "summaries = bodies\n",
    "# pos_list(headlines)"
   ]
  },
  {
   "cell_type": "code",
   "execution_count": 12,
   "metadata": {
    "scrolled": true
   },
   "outputs": [],
   "source": [
    "test = headlines[2]\n",
    "score_db = csv.reader(open(\"scored.csv\", mode='rt'), delimiter=',')\n",
    "\n",
    "def score(text, db):\n",
    "    sentence = text.split(' ')\n",
    "    scores = []\n",
    "\n",
    "    for row in db:\n",
    "        for word in sentence:\n",
    "            if word == row[0]:\n",
    "                scores.append(int(row[3]))\n",
    "\n",
    "    return sum(scores)\n"
   ]
  },
  {
   "cell_type": "code",
   "execution_count": 7,
   "metadata": {
    "scrolled": false
   },
   "outputs": [
    {
     "name": "stdout",
     "output_type": "stream",
     "text": [
      "[]\n"
     ]
    }
   ],
   "source": []
  },
  {
   "cell_type": "code",
   "execution_count": null,
   "metadata": {},
   "outputs": [],
   "source": []
  },
  {
   "cell_type": "code",
   "execution_count": null,
   "metadata": {},
   "outputs": [],
   "source": []
  },
  {
   "cell_type": "code",
   "execution_count": null,
   "metadata": {},
   "outputs": [],
   "source": []
  }
 ],
 "metadata": {
  "kernelspec": {
   "display_name": "Python 3",
   "language": "python",
   "name": "python3"
  },
  "language_info": {
   "codemirror_mode": {
    "name": "ipython",
    "version": 3
   },
   "file_extension": ".py",
   "mimetype": "text/x-python",
   "name": "python",
   "nbconvert_exporter": "python",
   "pygments_lexer": "ipython3",
   "version": "3.6.7"
  }
 },
 "nbformat": 4,
 "nbformat_minor": 2
}
